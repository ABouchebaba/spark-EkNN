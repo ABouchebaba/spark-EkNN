{
 "cells": [
  {
   "cell_type": "code",
   "execution_count": 10,
   "metadata": {},
   "outputs": [
    {
     "data": {
      "text/html": [
       "\n",
       "        <div>\n",
       "            <p><b>SparkContext</b></p>\n",
       "\n",
       "            <p><a href=\"http://10.193.217.80:4040\">Spark UI</a></p>\n",
       "\n",
       "            <dl>\n",
       "              <dt>Version</dt>\n",
       "                <dd><code>v3.0.1</code></dd>\n",
       "              <dt>Master</dt>\n",
       "                <dd><code>local[*]</code></dd>\n",
       "              <dt>AppName</dt>\n",
       "                <dd><code>PySparkShell</code></dd>\n",
       "            </dl>\n",
       "        </div>\n",
       "        "
      ],
      "text/plain": [
       "<SparkContext master=local[*] appName=PySparkShell>"
      ]
     },
     "execution_count": 10,
     "metadata": {},
     "output_type": "execute_result"
    }
   ],
   "source": [
    "sc"
   ]
  },
  {
   "cell_type": "code",
   "execution_count": 157,
   "metadata": {},
   "outputs": [],
   "source": [
    "from pyspark.ml.clustering import KMeans\n",
    "from pyspark.ml.evaluation import ClusteringEvaluator\n",
    "from pyspark.ml.linalg import Vectors"
   ]
  },
  {
   "cell_type": "code",
   "execution_count": 158,
   "metadata": {},
   "outputs": [],
   "source": [
    "#Input \n",
    "# Loads data.\n",
    "raw_dataset = spark.read.format(\"csv\").option(\"header\", \"true\").load(\"iris.csv\")"
   ]
  },
  {
   "cell_type": "code",
   "execution_count": 159,
   "metadata": {},
   "outputs": [
    {
     "data": {
      "text/plain": [
       "(125, 25)"
      ]
     },
     "execution_count": 159,
     "metadata": {},
     "output_type": "execute_result"
    }
   ],
   "source": [
    "#Split dataset\n",
    "train_ds, test_ds = raw_dataset.randomSplit([0.75, 0.25], seed=12345)\n",
    "len(train_ds.rdd.collect()), len(test_ds.rdd.collect())"
   ]
  },
  {
   "cell_type": "code",
   "execution_count": 185,
   "metadata": {},
   "outputs": [],
   "source": [
    "class Knn:\n",
    "    \n",
    "    def __init__(self, dataset):\n",
    "        self.dataset = dataset\n",
    "        \n",
    "    def __row_dist(self, input, row):\n",
    "        return (row[-1], Vectors.squared_distance(Vectors.dense(input), row[:-1]))\n",
    "    \n",
    "    def predict(self, input, k):\n",
    "        \n",
    "        cluster_dists = [self.__row_dist(Vectors.dense(input), row) for row in self.dataset.rdd.collect()]\n",
    "        knearest = sorted(cluster_dists, key=lambda tup: tup[1])[:k]\n",
    "\n",
    "        occurences = {}\n",
    "        for e in knearest:\n",
    "            if e[0] in occurences:\n",
    "                occurences[e[0]] += 1\n",
    "            else: \n",
    "                occurences[e[0]] = 1\n",
    "                \n",
    "        return max(occurences, key=occurences.get)\n",
    "    \n",
    "    def predict_all(self, inputs, k):\n",
    "        return [(input, self.predict(input[:-1], k)) for input in inputs]\n",
    "    "
   ]
  },
  {
   "cell_type": "code",
   "execution_count": 197,
   "metadata": {},
   "outputs": [],
   "source": [
    "#EKnn model class\n",
    "\n",
    "class EKnn:\n",
    "    \n",
    "    def __init__(self, dataset):\n",
    "        self.dataset = dataset\n",
    "        \n",
    "    def __closest_cluster(self, row):\n",
    "        dists = [Vectors.squared_distance(Vectors.dense(row[0:-1]), self.centers[i]) for i in range(len(self.centers))]\n",
    "        return dists.index(min(dists))\n",
    "    \n",
    "    def __row_dist(self, input, row):\n",
    "        return (row[-1], Vectors.squared_distance(Vectors.dense(input), row[:-1]))\n",
    "    \n",
    "    def train(self, k):\n",
    "        self.kmeans_k = k\n",
    "        tds = self.dataset.rdd.map(lambda x:(Vectors.dense(x[0:-1]), x[-1])).toDF([\"features\", \"label\"])\n",
    "        # Trains a k-means model.\n",
    "        kmeans = KMeans().setK(k) #.setSeed(1)\n",
    "        model = kmeans.fit(tds)\n",
    "        self.centers = model.clusterCenters()\n",
    "        \n",
    "        self.clusters = [[] for i in range(len(self.centers))]\n",
    "        for row in self.dataset.rdd.collect():\n",
    "            min_idx = self.__closest_cluster(row)\n",
    "            self.clusters[min_idx].append(row)\n",
    "\n",
    "        return self.clusters\n",
    "    \n",
    "    def predict(self, input, k):\n",
    "        \n",
    "        ## Find closest cluster\n",
    "        centers_dists = [Vectors.squared_distance(Vectors.dense(input), self.centers[i]) for i in range(len(self.centers))]\n",
    "        min_idx = centers_dists.index(min(centers_dists))\n",
    "        cluster = self.clusters[min_idx]\n",
    "        \n",
    "        cluster_dists = [self.__row_dist(Vectors.dense(input), row) for row in self.dataset.rdd.collect()]\n",
    "        knearest = sorted(cluster_dists, key=lambda tup: tup[1])[:k]\n",
    "\n",
    "        occurences = {}\n",
    "        for e in knearest:\n",
    "            if e[0] in occurences:\n",
    "                occurences[e[0]] += 1\n",
    "            else: \n",
    "                occurences[e[0]] = 1\n",
    "                \n",
    "        return max(occurences, key=occurences.get)\n",
    "    \n",
    "    def predict_all(self, inputs, k):\n",
    "        return [(input, self.predict(input[:-1], k)) for input in inputs]\n",
    "    \n",
    "    \n",
    "            \n",
    "        \n",
    "        \n",
    "        "
   ]
  },
  {
   "cell_type": "code",
   "execution_count": 200,
   "metadata": {},
   "outputs": [
    {
     "name": "stdout",
     "output_type": "stream",
     "text": [
      "100.0\n",
      "100.0\n"
     ]
    }
   ],
   "source": [
    "model_k = EKnn(train_ds)\n",
    "clusters = model_k.train(3)\n",
    "k_predictions  = model_k.predict_all(test_ds.rdd.collect(), 10)\n",
    "\n",
    "k_correct_predictions = 0\n",
    "for p in k_predictions:\n",
    "    if p[0].variety == p[1]:\n",
    "        k_correct_predictions += 1\n",
    "\n",
    "k_accuracy = k_correct_predictions / len(k_predictions) * 100\n",
    "\n",
    "print(k_accuracy)\n",
    "\n",
    "model_1 = Knn(train_ds)\n",
    "predictions = model_1.predict_all(test_ds.rdd.collect(), 10)\n",
    "\n",
    "correct_predictions = 0\n",
    "for p in predictions:\n",
    "    if p[0].variety == p[1]:\n",
    "        correct_predictions += 1\n",
    "\n",
    "accuracy = correct_predictions / len(predictions) * 100\n",
    "\n",
    "print(accuracy)"
   ]
  },
  {
   "cell_type": "code",
   "execution_count": 190,
   "metadata": {},
   "outputs": [
    {
     "data": {
      "text/plain": [
       "('4.6', '3.2', '1.4', '.2')"
      ]
     },
     "execution_count": 190,
     "metadata": {},
     "output_type": "execute_result"
    }
   ],
   "source": [
    "test_ds.rdd.collect()[0][:-1]"
   ]
  }
 ],
 "metadata": {
  "kernelspec": {
   "display_name": "Python 3",
   "language": "python",
   "name": "python3"
  },
  "language_info": {
   "codemirror_mode": {
    "name": "ipython",
    "version": 3
   },
   "file_extension": ".py",
   "mimetype": "text/x-python",
   "name": "python",
   "nbconvert_exporter": "python",
   "pygments_lexer": "ipython3",
   "version": "3.8.5"
  }
 },
 "nbformat": 4,
 "nbformat_minor": 4
}
